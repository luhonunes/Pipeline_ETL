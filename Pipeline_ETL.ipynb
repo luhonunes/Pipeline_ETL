{
  "nbformat": 4,
  "nbformat_minor": 0,
  "metadata": {
    "colab": {
      "provenance": [],
      "include_colab_link": true
    },
    "kernelspec": {
      "name": "python3",
      "display_name": "Python 3"
    },
    "language_info": {
      "name": "python"
    }
  },
  "cells": [
    {
      "cell_type": "markdown",
      "metadata": {
        "id": "view-in-github",
        "colab_type": "text"
      },
      "source": [
        "<a href=\"https://colab.research.google.com/github/luhonunes/Pipeline_ETL/blob/main/Pipeline_ETL.ipynb\" target=\"_parent\"><img src=\"https://colab.research.google.com/assets/colab-badge.svg\" alt=\"Open In Colab\"/></a>"
      ]
    },
    {
      "cell_type": "markdown",
      "source": [
        "## <font color = bluegreen> **Preparação** </font>\n",
        "\n",
        "Para a elaboração do projeto, foi utilizado o Google Colaboratory\n",
        "\n",
        "- **Passo 1: Criar um arquivo de API no Kaggle**\n",
        "\n",
        "  + Acesse o site do Kaggle (https://www.kaggle.com/) e faça login na sua conta.\n",
        "\n",
        "  + Clique no ícone do seu perfil no canto superior direito e selecione \"Settings\" no menu suspenso.![Settings](https://github.com/luhonunes/Criptomoedas_Resilia/blob/main/Imagens_Instru%C3%A7%C3%B5es/Settings%20Kaggle.png?raw=true)\n",
        "  +  Role para baixo até na seção \"Account\" e encontre a opção \"API\".\n",
        "\n",
        "  + Clique em \"Create New Token\". Isso gerará um arquivo de API chamado kaggle.json que você usará para autenticar no Kaggle.![API](https://github.com/luhonunes/Criptomoedas_Resilia/blob/main/Imagens_Instru%C3%A7%C3%B5es/Nova%20API.png?raw=true)\n",
        "  + Baixe o arquivo kaggle.json gerado e salve-o no seu computador.\n",
        "\n",
        "\n",
        "---\n"
      ],
      "metadata": {
        "id": "pal96sC3baln"
      }
    },
    {
      "cell_type": "markdown",
      "source": [
        "- **Passo 2: Upload do arquivo de configuração Kaggle (kaggle.json)**\n",
        "\n",
        "  + Execute a célula de código a seguir para carregar o arquivo kaggle.json:\n",
        "  + Clique no botão \"Escolher arquivo\" e selecione o arquivo kaggle.json previamente baixado no seu computador. Observe que o nome deve estar exatamente como descrito para que os passos a seguir funcionem. ![upload kaggle.json](https://github.com/luhonunes/Criptomoedas_Resilia/blob/main/Imagens_Instru%C3%A7%C3%B5es/upload%20kaggle.json.png?raw=true)\n",
        "\n",
        "  + Encontre o arquivo em sua maquina e selecione \"Abrir\". ![Import APi](https://github.com/luhonunes/Criptomoedas_Resilia/blob/main/Imagens_Instru%C3%A7%C3%B5es/import%20API.png?raw=true)\n",
        "\n"
      ],
      "metadata": {
        "id": "1jeL3WdUiSOY"
      }
    },
    {
      "cell_type": "code",
      "source": [
        "from google.colab import files\n",
        "\n",
        "# Faça o upload do arquivo kaggle.json\n",
        "files.upload()"
      ],
      "metadata": {
        "id": "pUwtAYfcgGdd",
        "colab": {
          "base_uri": "https://localhost:8080/",
          "height": 90
        },
        "outputId": "ab9a75c3-8130-46ac-c95c-63a2f524ace7"
      },
      "execution_count": 1,
      "outputs": [
        {
          "output_type": "display_data",
          "data": {
            "text/plain": [
              "<IPython.core.display.HTML object>"
            ],
            "text/html": [
              "\n",
              "     <input type=\"file\" id=\"files-624f3f7b-fd6b-4269-bbc6-ef69b0ee7dd4\" name=\"files[]\" multiple disabled\n",
              "        style=\"border:none\" />\n",
              "     <output id=\"result-624f3f7b-fd6b-4269-bbc6-ef69b0ee7dd4\">\n",
              "      Upload widget is only available when the cell has been executed in the\n",
              "      current browser session. Please rerun this cell to enable.\n",
              "      </output>\n",
              "      <script>// Copyright 2017 Google LLC\n",
              "//\n",
              "// Licensed under the Apache License, Version 2.0 (the \"License\");\n",
              "// you may not use this file except in compliance with the License.\n",
              "// You may obtain a copy of the License at\n",
              "//\n",
              "//      http://www.apache.org/licenses/LICENSE-2.0\n",
              "//\n",
              "// Unless required by applicable law or agreed to in writing, software\n",
              "// distributed under the License is distributed on an \"AS IS\" BASIS,\n",
              "// WITHOUT WARRANTIES OR CONDITIONS OF ANY KIND, either express or implied.\n",
              "// See the License for the specific language governing permissions and\n",
              "// limitations under the License.\n",
              "\n",
              "/**\n",
              " * @fileoverview Helpers for google.colab Python module.\n",
              " */\n",
              "(function(scope) {\n",
              "function span(text, styleAttributes = {}) {\n",
              "  const element = document.createElement('span');\n",
              "  element.textContent = text;\n",
              "  for (const key of Object.keys(styleAttributes)) {\n",
              "    element.style[key] = styleAttributes[key];\n",
              "  }\n",
              "  return element;\n",
              "}\n",
              "\n",
              "// Max number of bytes which will be uploaded at a time.\n",
              "const MAX_PAYLOAD_SIZE = 100 * 1024;\n",
              "\n",
              "function _uploadFiles(inputId, outputId) {\n",
              "  const steps = uploadFilesStep(inputId, outputId);\n",
              "  const outputElement = document.getElementById(outputId);\n",
              "  // Cache steps on the outputElement to make it available for the next call\n",
              "  // to uploadFilesContinue from Python.\n",
              "  outputElement.steps = steps;\n",
              "\n",
              "  return _uploadFilesContinue(outputId);\n",
              "}\n",
              "\n",
              "// This is roughly an async generator (not supported in the browser yet),\n",
              "// where there are multiple asynchronous steps and the Python side is going\n",
              "// to poll for completion of each step.\n",
              "// This uses a Promise to block the python side on completion of each step,\n",
              "// then passes the result of the previous step as the input to the next step.\n",
              "function _uploadFilesContinue(outputId) {\n",
              "  const outputElement = document.getElementById(outputId);\n",
              "  const steps = outputElement.steps;\n",
              "\n",
              "  const next = steps.next(outputElement.lastPromiseValue);\n",
              "  return Promise.resolve(next.value.promise).then((value) => {\n",
              "    // Cache the last promise value to make it available to the next\n",
              "    // step of the generator.\n",
              "    outputElement.lastPromiseValue = value;\n",
              "    return next.value.response;\n",
              "  });\n",
              "}\n",
              "\n",
              "/**\n",
              " * Generator function which is called between each async step of the upload\n",
              " * process.\n",
              " * @param {string} inputId Element ID of the input file picker element.\n",
              " * @param {string} outputId Element ID of the output display.\n",
              " * @return {!Iterable<!Object>} Iterable of next steps.\n",
              " */\n",
              "function* uploadFilesStep(inputId, outputId) {\n",
              "  const inputElement = document.getElementById(inputId);\n",
              "  inputElement.disabled = false;\n",
              "\n",
              "  const outputElement = document.getElementById(outputId);\n",
              "  outputElement.innerHTML = '';\n",
              "\n",
              "  const pickedPromise = new Promise((resolve) => {\n",
              "    inputElement.addEventListener('change', (e) => {\n",
              "      resolve(e.target.files);\n",
              "    });\n",
              "  });\n",
              "\n",
              "  const cancel = document.createElement('button');\n",
              "  inputElement.parentElement.appendChild(cancel);\n",
              "  cancel.textContent = 'Cancel upload';\n",
              "  const cancelPromise = new Promise((resolve) => {\n",
              "    cancel.onclick = () => {\n",
              "      resolve(null);\n",
              "    };\n",
              "  });\n",
              "\n",
              "  // Wait for the user to pick the files.\n",
              "  const files = yield {\n",
              "    promise: Promise.race([pickedPromise, cancelPromise]),\n",
              "    response: {\n",
              "      action: 'starting',\n",
              "    }\n",
              "  };\n",
              "\n",
              "  cancel.remove();\n",
              "\n",
              "  // Disable the input element since further picks are not allowed.\n",
              "  inputElement.disabled = true;\n",
              "\n",
              "  if (!files) {\n",
              "    return {\n",
              "      response: {\n",
              "        action: 'complete',\n",
              "      }\n",
              "    };\n",
              "  }\n",
              "\n",
              "  for (const file of files) {\n",
              "    const li = document.createElement('li');\n",
              "    li.append(span(file.name, {fontWeight: 'bold'}));\n",
              "    li.append(span(\n",
              "        `(${file.type || 'n/a'}) - ${file.size} bytes, ` +\n",
              "        `last modified: ${\n",
              "            file.lastModifiedDate ? file.lastModifiedDate.toLocaleDateString() :\n",
              "                                    'n/a'} - `));\n",
              "    const percent = span('0% done');\n",
              "    li.appendChild(percent);\n",
              "\n",
              "    outputElement.appendChild(li);\n",
              "\n",
              "    const fileDataPromise = new Promise((resolve) => {\n",
              "      const reader = new FileReader();\n",
              "      reader.onload = (e) => {\n",
              "        resolve(e.target.result);\n",
              "      };\n",
              "      reader.readAsArrayBuffer(file);\n",
              "    });\n",
              "    // Wait for the data to be ready.\n",
              "    let fileData = yield {\n",
              "      promise: fileDataPromise,\n",
              "      response: {\n",
              "        action: 'continue',\n",
              "      }\n",
              "    };\n",
              "\n",
              "    // Use a chunked sending to avoid message size limits. See b/62115660.\n",
              "    let position = 0;\n",
              "    do {\n",
              "      const length = Math.min(fileData.byteLength - position, MAX_PAYLOAD_SIZE);\n",
              "      const chunk = new Uint8Array(fileData, position, length);\n",
              "      position += length;\n",
              "\n",
              "      const base64 = btoa(String.fromCharCode.apply(null, chunk));\n",
              "      yield {\n",
              "        response: {\n",
              "          action: 'append',\n",
              "          file: file.name,\n",
              "          data: base64,\n",
              "        },\n",
              "      };\n",
              "\n",
              "      let percentDone = fileData.byteLength === 0 ?\n",
              "          100 :\n",
              "          Math.round((position / fileData.byteLength) * 100);\n",
              "      percent.textContent = `${percentDone}% done`;\n",
              "\n",
              "    } while (position < fileData.byteLength);\n",
              "  }\n",
              "\n",
              "  // All done.\n",
              "  yield {\n",
              "    response: {\n",
              "      action: 'complete',\n",
              "    }\n",
              "  };\n",
              "}\n",
              "\n",
              "scope.google = scope.google || {};\n",
              "scope.google.colab = scope.google.colab || {};\n",
              "scope.google.colab._files = {\n",
              "  _uploadFiles,\n",
              "  _uploadFilesContinue,\n",
              "};\n",
              "})(self);\n",
              "</script> "
            ]
          },
          "metadata": {}
        },
        {
          "output_type": "stream",
          "name": "stdout",
          "text": [
            "Saving kaggle.json to kaggle.json\n"
          ]
        },
        {
          "output_type": "execute_result",
          "data": {
            "text/plain": [
              "{'kaggle.json': b'{\"username\":\"lucianaotvionunes\",\"key\":\"0ec46dac0904b5cde6fc3f0d5a6027de\"}'}"
            ]
          },
          "metadata": {},
          "execution_count": 1
        }
      ]
    },
    {
      "cell_type": "markdown",
      "source": [
        "*Isso moverá o arquivo kaggle.json para a pasta raiz do ambiente do Google Colab, onde você pode acessá-lo facilmente ao seguir o restante dos passos no ambiente do Colab. Certifique-se de que o arquivo foi movido com sucesso antes de prosseguir com o Passo 3.*\n",
        "\n",
        "![Salvo Json](https://github.com/luhonunes/Criptomoedas_Resilia/blob/main/Imagens_Instru%C3%A7%C3%B5es/Salvo%20json.png?raw=true)"
      ],
      "metadata": {
        "id": "f0OSZfaWiARA"
      }
    },
    {
      "cell_type": "markdown",
      "source": [
        "___"
      ],
      "metadata": {
        "id": "fHEGAupslw-f"
      }
    },
    {
      "cell_type": "markdown",
      "source": [
        "- **Passo 3: Mover o arquivo kaggle.json para o diretório correto**\n",
        "\n",
        "  + Execute a célula de código a seguir para mover o arquivo kaggle.json para o diretório correto:"
      ],
      "metadata": {
        "id": "rHZ2_rnnijGH"
      }
    },
    {
      "cell_type": "code",
      "source": [
        "import os\n",
        "\n",
        "# Mova o arquivo kaggle.json para o diretório correto\n",
        "os.makedirs(\"/root/.kaggle\", exist_ok=True)\n",
        "os.rename(\"kaggle.json\", \"/root/.kaggle/kaggle.json\")"
      ],
      "metadata": {
        "id": "EEgAId4ch1LV"
      },
      "execution_count": 2,
      "outputs": []
    },
    {
      "cell_type": "markdown",
      "source": [
        "---\n"
      ],
      "metadata": {
        "id": "iplwPai6lzHG"
      }
    },
    {
      "cell_type": "markdown",
      "source": [
        "- **Passo 4: Instalar a biblioteca Kaggle**\n",
        "\n",
        "  + Execute a seguinte célula de código para instalar a biblioteca Kaggle: ![Instalar Kaggle](https://github.com/luhonunes/Criptomoedas_Resilia/blob/main/Imagens_Instru%C3%A7%C3%B5es/Instalar%20Kaggle.png?raw=true)"
      ],
      "metadata": {
        "id": "cO05HOSQmQbZ"
      }
    },
    {
      "cell_type": "code",
      "source": [
        "!pip install kaggle\n"
      ],
      "metadata": {
        "id": "GkPff9admZmz",
        "colab": {
          "base_uri": "https://localhost:8080/"
        },
        "outputId": "2b837e7e-4dae-470a-8daf-5278df462164"
      },
      "execution_count": null,
      "outputs": [
        {
          "output_type": "stream",
          "name": "stdout",
          "text": [
            "Requirement already satisfied: kaggle in /usr/local/lib/python3.10/dist-packages (1.5.16)\n",
            "Requirement already satisfied: six>=1.10 in /usr/local/lib/python3.10/dist-packages (from kaggle) (1.16.0)\n",
            "Requirement already satisfied: certifi in /usr/local/lib/python3.10/dist-packages (from kaggle) (2023.7.22)\n",
            "Requirement already satisfied: python-dateutil in /usr/local/lib/python3.10/dist-packages (from kaggle) (2.8.2)\n",
            "Requirement already satisfied: requests in /usr/local/lib/python3.10/dist-packages (from kaggle) (2.31.0)\n",
            "Requirement already satisfied: tqdm in /usr/local/lib/python3.10/dist-packages (from kaggle) (4.66.1)\n",
            "Requirement already satisfied: python-slugify in /usr/local/lib/python3.10/dist-packages (from kaggle) (8.0.1)\n",
            "Requirement already satisfied: urllib3 in /usr/local/lib/python3.10/dist-packages (from kaggle) (2.0.4)\n",
            "Requirement already satisfied: bleach in /usr/local/lib/python3.10/dist-packages (from kaggle) (6.0.0)\n",
            "Requirement already satisfied: webencodings in /usr/local/lib/python3.10/dist-packages (from bleach->kaggle) (0.5.1)\n",
            "Requirement already satisfied: text-unidecode>=1.3 in /usr/local/lib/python3.10/dist-packages (from python-slugify->kaggle) (1.3)\n",
            "Requirement already satisfied: charset-normalizer<4,>=2 in /usr/local/lib/python3.10/dist-packages (from requests->kaggle) (3.2.0)\n",
            "Requirement already satisfied: idna<4,>=2.5 in /usr/local/lib/python3.10/dist-packages (from requests->kaggle) (3.4)\n"
          ]
        }
      ]
    },
    {
      "cell_type": "markdown",
      "source": [
        "---"
      ],
      "metadata": {
        "id": "VmHOOibdmdCW"
      }
    },
    {
      "cell_type": "markdown",
      "source": [
        "- **Passo 5: Configurar permissões para o arquivo de configuração Kaggle**\n",
        "\n",
        "  + Execute a célula de código abaixo para garantir que o arquivo de configuração kaggle.json tenha as permissões corretas:"
      ],
      "metadata": {
        "id": "zXTYWULpmhxQ"
      }
    },
    {
      "cell_type": "code",
      "source": [
        "!chmod 600 /root/.kaggle/kaggle.json\n"
      ],
      "metadata": {
        "id": "QsjgEFMamnIG"
      },
      "execution_count": 3,
      "outputs": []
    },
    {
      "cell_type": "markdown",
      "source": [
        "---"
      ],
      "metadata": {
        "id": "P_2OYvWko8lz"
      }
    },
    {
      "cell_type": "markdown",
      "source": [
        "- **Passo 6: Escolher um conjunto de dados no Kaggle e fazer o download**\n",
        "\n",
        "  + Foi escolhido o seguinte conjunto de dados no Kaggle contendo O maior e mais completo mapeamento do mercado brasileiro de dados.\n",
        "\n",
        "  + Execute a célula de código para fazer o download do conjunto de dados:\n",
        "  + Um novo arquivo será exibido:"
      ],
      "metadata": {
        "id": "I3xLn2jgnnrH"
      }
    },
    {
      "cell_type": "code",
      "source": [
        "# Nome do conjunto de dados no Kaggle\n",
        "dataset_name = \"datahackers/state-of-data-2021\"\n",
        "\n",
        "# Pasta de destino para os arquivos CSV baixados\n",
        "download_folder = \"/content/DataBrazil\"  # Substitua pelo caminho desejado\n",
        "\n",
        "# Baixe os arquivos do conjunto de dados\n",
        "!kaggle datasets download -d {dataset_name} -p {download_folder}\n"
      ],
      "metadata": {
        "id": "b7hM-eg7B29g",
        "colab": {
          "base_uri": "https://localhost:8080/"
        },
        "outputId": "7f1eeecd-aa1f-4501-edc1-5b7646d19654"
      },
      "execution_count": 4,
      "outputs": [
        {
          "output_type": "stream",
          "name": "stdout",
          "text": [
            "Downloading state-of-data-2021.zip to /content/DataBrazil\n",
            "\r  0% 0.00/539k [00:00<?, ?B/s]\n",
            "\r100% 539k/539k [00:00<00:00, 90.7MB/s]\n"
          ]
        }
      ]
    },
    {
      "cell_type": "markdown",
      "source": [
        "---"
      ],
      "metadata": {
        "id": "__XjQ32_o98E"
      }
    },
    {
      "cell_type": "markdown",
      "source": [
        "- **Passo 7: Descompactar o arquivo ZIP do conjunto de dados**\n",
        "\n",
        "  + Execute a célula de código para descompactar o arquivo ZIP do conjunto de dados: ![Descompactado](https://github.com/luhonunes/Criptomoedas_Resilia/blob/main/Imagens_Instru%C3%A7%C3%B5es/Descompactado.png?raw=true)\n",
        "\n",
        "  + Observe que uma subpasta foi criada contendo todos os arquivos do dataset escolhido."
      ],
      "metadata": {
        "id": "wteKz6Odnujy"
      }
    },
    {
      "cell_type": "code",
      "source": [
        "import zipfile\n",
        "\n",
        "# Caminho para o arquivo ZIP\n",
        "zip_file_path = \"/content/DataBrazil/state-of-data-2021.zip\"  # Substitua pelo caminho correto\n",
        "\n",
        "# Pasta de destino para descompactar os arquivos\n",
        "extracted_folder = \"/content/DataBrazil/extracao\"  # Substitua pelo caminho desejado\n",
        "\n",
        "# Descompacte o arquivo ZIP\n",
        "with zipfile.ZipFile(zip_file_path, 'r') as zip_ref:\n",
        "    zip_ref.extractall(extracted_folder)\n",
        "\n",
        "print(\"Arquivo ZIP descompactado com sucesso.\")"
      ],
      "metadata": {
        "id": "_hQw6R2GDrJn",
        "colab": {
          "base_uri": "https://localhost:8080/"
        },
        "outputId": "77883bb1-9a0c-467c-8a32-77ac2c72cac5"
      },
      "execution_count": 5,
      "outputs": [
        {
          "output_type": "stream",
          "name": "stdout",
          "text": [
            "Arquivo ZIP descompactado com sucesso.\n"
          ]
        }
      ]
    },
    {
      "cell_type": "markdown",
      "source": [
        "---"
      ],
      "metadata": {
        "id": "dDpectHxpABY"
      }
    },
    {
      "cell_type": "markdown",
      "source": [
        "- **Passo 8: Carregar e manipular os arquivos CSV**\n",
        "\n",
        "  + Execute a célula de código para listar todos os arquivos CSV na pasta descompactada e criar o DataFrame:"
      ],
      "metadata": {
        "id": "NuVImmrtoKyZ"
      }
    },
    {
      "cell_type": "code",
      "source": [
        "import pandas as pd\n",
        "\n",
        "data_brazil = pd.read_csv('/content/DataBrazil/extracao/State of Data 2021 - Dataset - Pgina1.csv', low_memory=False)\n"
      ],
      "metadata": {
        "id": "gPTmgmUSDtoF"
      },
      "execution_count": 73,
      "outputs": []
    },
    {
      "cell_type": "markdown",
      "source": [
        "*O DataFrame será armazenado. Você pode realizar operações de edição ou análise nos DataFrames conforme necessário.*"
      ],
      "metadata": {
        "id": "GLAG6cyOpc6C"
      }
    },
    {
      "cell_type": "markdown",
      "source": [
        "---"
      ],
      "metadata": {
        "id": "sN81SmhRpC6C"
      }
    },
    {
      "cell_type": "markdown",
      "source": [
        "- **Passo 9: Pré-processamento, manipulação e limpeza dos dados**\n",
        "\n",
        "  + Execute este bloco de código para preparar os dados de criptomoedas para análises subsequentes, tornando-os consistentes, organizados e prontos para serem usados em tarefas analíticas ou de visualização de dados."
      ],
      "metadata": {
        "id": "_h3C1GvjoTSG"
      }
    },
    {
      "cell_type": "code",
      "source": [
        "data_brazil = data_brazil.drop(data_brazil.columns[[0, 4, 7, 8] + list(range(10, 356))], axis=1)"
      ],
      "metadata": {
        "id": "xRcG0Frf9zKs"
      },
      "execution_count": 74,
      "outputs": []
    },
    {
      "cell_type": "code",
      "source": [
        "# Crie um dicionário com os novos nomes das colunas baseados em seus índices\n",
        "novos_nomes ={}"
      ],
      "metadata": {
        "id": "rslgxnq0WQCc"
      },
      "execution_count": 75,
      "outputs": []
    },
    {
      "cell_type": "code",
      "source": [
        "# Remova os parênteses e as aspas dos nomes das colunas\n",
        "data_brazil.columns = data_brazil.columns.str.replace(r\"['()\\s]\", \"\", regex=True)\n",
        "data_brazil.columns = data_brazil.columns.str.split(',').str[1]\n",
        "\n",
        "# Verifique novamente os nomes das colunas após a limpeza\n",
        "print(data_brazil.columns)\n",
        "\n",
        "# Verifique se os nomes das colunas no dicionário correspondem exatamente\n",
        "print(set(data_brazil.columns) == set(novos_nomes.values()))\n",
        "\n",
        "# Se os nomes das colunas correspondem, faça a renomeação\n",
        "if set(data_brazil.columns) == set(novos_nomes.values()):\n",
        "    data_brazil = data_brazil.rename(columns=novos_nomes)\n",
        "\n"
      ],
      "metadata": {
        "colab": {
          "base_uri": "https://localhost:8080/"
        },
        "id": "ZkOSvGJ8V_t8",
        "outputId": "7008ce51-e0b5-4377-e933-090a5fc6bb2b"
      },
      "execution_count": 76,
      "outputs": [
        {
          "output_type": "stream",
          "name": "stdout",
          "text": [
            "Index(['Idade', 'Faixaidade', 'Genero', 'ufondemora', 'Regiaoondemora',\n",
            "       'NiveldeEnsino'],\n",
            "      dtype='object')\n",
            "False\n"
          ]
        }
      ]
    },
    {
      "cell_type": "code",
      "source": [
        "# Criando uma cópia dos dados\n",
        "dados = data_brazil.copy()"
      ],
      "metadata": {
        "id": "7XN1IsWjHAZt"
      },
      "execution_count": 77,
      "outputs": []
    },
    {
      "cell_type": "code",
      "source": [
        "dados"
      ],
      "metadata": {
        "colab": {
          "base_uri": "https://localhost:8080/",
          "height": 424
        },
        "id": "AWoUP06TGvj-",
        "outputId": "81cdf570-56b0-42a6-a09b-2fd5ffbd8ad7"
      },
      "execution_count": 78,
      "outputs": [
        {
          "output_type": "execute_result",
          "data": {
            "text/plain": [
              "      Idade Faixaidade     Genero ufondemora Regiaoondemora  \\\n",
              "0      38.0      35-39  Masculino         CE       Nordeste   \n",
              "1      39.0      35-39  Masculino         BA       Nordeste   \n",
              "2      30.0      30-34  Masculino         SC            Sul   \n",
              "3      38.0      35-39   Feminino         SP        Sudeste   \n",
              "4      36.0      35-39  Masculino         SC            Sul   \n",
              "...     ...        ...        ...        ...            ...   \n",
              "2640   40.0      40-44  Masculino         SP        Sudeste   \n",
              "2641   27.0      25-29  Masculino         SC            Sul   \n",
              "2642   24.0      22-24  Masculino         SC            Sul   \n",
              "2643   38.0      35-39  Masculino         RJ        Sudeste   \n",
              "2644   27.0      25-29   Feminino         MG        Sudeste   \n",
              "\n",
              "                   NiveldeEnsino  \n",
              "0                  Pós-graduação  \n",
              "1                  Pós-graduação  \n",
              "2                  Pós-graduação  \n",
              "3                  Pós-graduação  \n",
              "4                  Pós-graduação  \n",
              "...                          ...  \n",
              "2640  Não tenho graduação formal  \n",
              "2641       Graduação/Bacharelado  \n",
              "2642       Graduação/Bacharelado  \n",
              "2643       Graduação/Bacharelado  \n",
              "2644               Pós-graduação  \n",
              "\n",
              "[2645 rows x 6 columns]"
            ],
            "text/html": [
              "\n",
              "  <div id=\"df-9a53c1f4-71ca-4fb2-8571-9336733313db\" class=\"colab-df-container\">\n",
              "    <div>\n",
              "<style scoped>\n",
              "    .dataframe tbody tr th:only-of-type {\n",
              "        vertical-align: middle;\n",
              "    }\n",
              "\n",
              "    .dataframe tbody tr th {\n",
              "        vertical-align: top;\n",
              "    }\n",
              "\n",
              "    .dataframe thead th {\n",
              "        text-align: right;\n",
              "    }\n",
              "</style>\n",
              "<table border=\"1\" class=\"dataframe\">\n",
              "  <thead>\n",
              "    <tr style=\"text-align: right;\">\n",
              "      <th></th>\n",
              "      <th>Idade</th>\n",
              "      <th>Faixaidade</th>\n",
              "      <th>Genero</th>\n",
              "      <th>ufondemora</th>\n",
              "      <th>Regiaoondemora</th>\n",
              "      <th>NiveldeEnsino</th>\n",
              "    </tr>\n",
              "  </thead>\n",
              "  <tbody>\n",
              "    <tr>\n",
              "      <th>0</th>\n",
              "      <td>38.0</td>\n",
              "      <td>35-39</td>\n",
              "      <td>Masculino</td>\n",
              "      <td>CE</td>\n",
              "      <td>Nordeste</td>\n",
              "      <td>Pós-graduação</td>\n",
              "    </tr>\n",
              "    <tr>\n",
              "      <th>1</th>\n",
              "      <td>39.0</td>\n",
              "      <td>35-39</td>\n",
              "      <td>Masculino</td>\n",
              "      <td>BA</td>\n",
              "      <td>Nordeste</td>\n",
              "      <td>Pós-graduação</td>\n",
              "    </tr>\n",
              "    <tr>\n",
              "      <th>2</th>\n",
              "      <td>30.0</td>\n",
              "      <td>30-34</td>\n",
              "      <td>Masculino</td>\n",
              "      <td>SC</td>\n",
              "      <td>Sul</td>\n",
              "      <td>Pós-graduação</td>\n",
              "    </tr>\n",
              "    <tr>\n",
              "      <th>3</th>\n",
              "      <td>38.0</td>\n",
              "      <td>35-39</td>\n",
              "      <td>Feminino</td>\n",
              "      <td>SP</td>\n",
              "      <td>Sudeste</td>\n",
              "      <td>Pós-graduação</td>\n",
              "    </tr>\n",
              "    <tr>\n",
              "      <th>4</th>\n",
              "      <td>36.0</td>\n",
              "      <td>35-39</td>\n",
              "      <td>Masculino</td>\n",
              "      <td>SC</td>\n",
              "      <td>Sul</td>\n",
              "      <td>Pós-graduação</td>\n",
              "    </tr>\n",
              "    <tr>\n",
              "      <th>...</th>\n",
              "      <td>...</td>\n",
              "      <td>...</td>\n",
              "      <td>...</td>\n",
              "      <td>...</td>\n",
              "      <td>...</td>\n",
              "      <td>...</td>\n",
              "    </tr>\n",
              "    <tr>\n",
              "      <th>2640</th>\n",
              "      <td>40.0</td>\n",
              "      <td>40-44</td>\n",
              "      <td>Masculino</td>\n",
              "      <td>SP</td>\n",
              "      <td>Sudeste</td>\n",
              "      <td>Não tenho graduação formal</td>\n",
              "    </tr>\n",
              "    <tr>\n",
              "      <th>2641</th>\n",
              "      <td>27.0</td>\n",
              "      <td>25-29</td>\n",
              "      <td>Masculino</td>\n",
              "      <td>SC</td>\n",
              "      <td>Sul</td>\n",
              "      <td>Graduação/Bacharelado</td>\n",
              "    </tr>\n",
              "    <tr>\n",
              "      <th>2642</th>\n",
              "      <td>24.0</td>\n",
              "      <td>22-24</td>\n",
              "      <td>Masculino</td>\n",
              "      <td>SC</td>\n",
              "      <td>Sul</td>\n",
              "      <td>Graduação/Bacharelado</td>\n",
              "    </tr>\n",
              "    <tr>\n",
              "      <th>2643</th>\n",
              "      <td>38.0</td>\n",
              "      <td>35-39</td>\n",
              "      <td>Masculino</td>\n",
              "      <td>RJ</td>\n",
              "      <td>Sudeste</td>\n",
              "      <td>Graduação/Bacharelado</td>\n",
              "    </tr>\n",
              "    <tr>\n",
              "      <th>2644</th>\n",
              "      <td>27.0</td>\n",
              "      <td>25-29</td>\n",
              "      <td>Feminino</td>\n",
              "      <td>MG</td>\n",
              "      <td>Sudeste</td>\n",
              "      <td>Pós-graduação</td>\n",
              "    </tr>\n",
              "  </tbody>\n",
              "</table>\n",
              "<p>2645 rows × 6 columns</p>\n",
              "</div>\n",
              "    <div class=\"colab-df-buttons\">\n",
              "\n",
              "  <div class=\"colab-df-container\">\n",
              "    <button class=\"colab-df-convert\" onclick=\"convertToInteractive('df-9a53c1f4-71ca-4fb2-8571-9336733313db')\"\n",
              "            title=\"Convert this dataframe to an interactive table.\"\n",
              "            style=\"display:none;\">\n",
              "\n",
              "  <svg xmlns=\"http://www.w3.org/2000/svg\" height=\"24px\" viewBox=\"0 -960 960 960\">\n",
              "    <path d=\"M120-120v-720h720v720H120Zm60-500h600v-160H180v160Zm220 220h160v-160H400v160Zm0 220h160v-160H400v160ZM180-400h160v-160H180v160Zm440 0h160v-160H620v160ZM180-180h160v-160H180v160Zm440 0h160v-160H620v160Z\"/>\n",
              "  </svg>\n",
              "    </button>\n",
              "\n",
              "  <style>\n",
              "    .colab-df-container {\n",
              "      display:flex;\n",
              "      gap: 12px;\n",
              "    }\n",
              "\n",
              "    .colab-df-convert {\n",
              "      background-color: #E8F0FE;\n",
              "      border: none;\n",
              "      border-radius: 50%;\n",
              "      cursor: pointer;\n",
              "      display: none;\n",
              "      fill: #1967D2;\n",
              "      height: 32px;\n",
              "      padding: 0 0 0 0;\n",
              "      width: 32px;\n",
              "    }\n",
              "\n",
              "    .colab-df-convert:hover {\n",
              "      background-color: #E2EBFA;\n",
              "      box-shadow: 0px 1px 2px rgba(60, 64, 67, 0.3), 0px 1px 3px 1px rgba(60, 64, 67, 0.15);\n",
              "      fill: #174EA6;\n",
              "    }\n",
              "\n",
              "    .colab-df-buttons div {\n",
              "      margin-bottom: 4px;\n",
              "    }\n",
              "\n",
              "    [theme=dark] .colab-df-convert {\n",
              "      background-color: #3B4455;\n",
              "      fill: #D2E3FC;\n",
              "    }\n",
              "\n",
              "    [theme=dark] .colab-df-convert:hover {\n",
              "      background-color: #434B5C;\n",
              "      box-shadow: 0px 1px 3px 1px rgba(0, 0, 0, 0.15);\n",
              "      filter: drop-shadow(0px 1px 2px rgba(0, 0, 0, 0.3));\n",
              "      fill: #FFFFFF;\n",
              "    }\n",
              "  </style>\n",
              "\n",
              "    <script>\n",
              "      const buttonEl =\n",
              "        document.querySelector('#df-9a53c1f4-71ca-4fb2-8571-9336733313db button.colab-df-convert');\n",
              "      buttonEl.style.display =\n",
              "        google.colab.kernel.accessAllowed ? 'block' : 'none';\n",
              "\n",
              "      async function convertToInteractive(key) {\n",
              "        const element = document.querySelector('#df-9a53c1f4-71ca-4fb2-8571-9336733313db');\n",
              "        const dataTable =\n",
              "          await google.colab.kernel.invokeFunction('convertToInteractive',\n",
              "                                                    [key], {});\n",
              "        if (!dataTable) return;\n",
              "\n",
              "        const docLinkHtml = 'Like what you see? Visit the ' +\n",
              "          '<a target=\"_blank\" href=https://colab.research.google.com/notebooks/data_table.ipynb>data table notebook</a>'\n",
              "          + ' to learn more about interactive tables.';\n",
              "        element.innerHTML = '';\n",
              "        dataTable['output_type'] = 'display_data';\n",
              "        await google.colab.output.renderOutput(dataTable, element);\n",
              "        const docLink = document.createElement('div');\n",
              "        docLink.innerHTML = docLinkHtml;\n",
              "        element.appendChild(docLink);\n",
              "      }\n",
              "    </script>\n",
              "  </div>\n",
              "\n",
              "\n",
              "<div id=\"df-f62a51c4-f082-414c-bee8-b36c0b3d128f\">\n",
              "  <button class=\"colab-df-quickchart\" onclick=\"quickchart('df-f62a51c4-f082-414c-bee8-b36c0b3d128f')\"\n",
              "            title=\"Suggest charts.\"\n",
              "            style=\"display:none;\">\n",
              "\n",
              "<svg xmlns=\"http://www.w3.org/2000/svg\" height=\"24px\"viewBox=\"0 0 24 24\"\n",
              "     width=\"24px\">\n",
              "    <g>\n",
              "        <path d=\"M19 3H5c-1.1 0-2 .9-2 2v14c0 1.1.9 2 2 2h14c1.1 0 2-.9 2-2V5c0-1.1-.9-2-2-2zM9 17H7v-7h2v7zm4 0h-2V7h2v10zm4 0h-2v-4h2v4z\"/>\n",
              "    </g>\n",
              "</svg>\n",
              "  </button>\n",
              "\n",
              "<style>\n",
              "  .colab-df-quickchart {\n",
              "      --bg-color: #E8F0FE;\n",
              "      --fill-color: #1967D2;\n",
              "      --hover-bg-color: #E2EBFA;\n",
              "      --hover-fill-color: #174EA6;\n",
              "      --disabled-fill-color: #AAA;\n",
              "      --disabled-bg-color: #DDD;\n",
              "  }\n",
              "\n",
              "  [theme=dark] .colab-df-quickchart {\n",
              "      --bg-color: #3B4455;\n",
              "      --fill-color: #D2E3FC;\n",
              "      --hover-bg-color: #434B5C;\n",
              "      --hover-fill-color: #FFFFFF;\n",
              "      --disabled-bg-color: #3B4455;\n",
              "      --disabled-fill-color: #666;\n",
              "  }\n",
              "\n",
              "  .colab-df-quickchart {\n",
              "    background-color: var(--bg-color);\n",
              "    border: none;\n",
              "    border-radius: 50%;\n",
              "    cursor: pointer;\n",
              "    display: none;\n",
              "    fill: var(--fill-color);\n",
              "    height: 32px;\n",
              "    padding: 0;\n",
              "    width: 32px;\n",
              "  }\n",
              "\n",
              "  .colab-df-quickchart:hover {\n",
              "    background-color: var(--hover-bg-color);\n",
              "    box-shadow: 0 1px 2px rgba(60, 64, 67, 0.3), 0 1px 3px 1px rgba(60, 64, 67, 0.15);\n",
              "    fill: var(--button-hover-fill-color);\n",
              "  }\n",
              "\n",
              "  .colab-df-quickchart-complete:disabled,\n",
              "  .colab-df-quickchart-complete:disabled:hover {\n",
              "    background-color: var(--disabled-bg-color);\n",
              "    fill: var(--disabled-fill-color);\n",
              "    box-shadow: none;\n",
              "  }\n",
              "\n",
              "  .colab-df-spinner {\n",
              "    border: 2px solid var(--fill-color);\n",
              "    border-color: transparent;\n",
              "    border-bottom-color: var(--fill-color);\n",
              "    animation:\n",
              "      spin 1s steps(1) infinite;\n",
              "  }\n",
              "\n",
              "  @keyframes spin {\n",
              "    0% {\n",
              "      border-color: transparent;\n",
              "      border-bottom-color: var(--fill-color);\n",
              "      border-left-color: var(--fill-color);\n",
              "    }\n",
              "    20% {\n",
              "      border-color: transparent;\n",
              "      border-left-color: var(--fill-color);\n",
              "      border-top-color: var(--fill-color);\n",
              "    }\n",
              "    30% {\n",
              "      border-color: transparent;\n",
              "      border-left-color: var(--fill-color);\n",
              "      border-top-color: var(--fill-color);\n",
              "      border-right-color: var(--fill-color);\n",
              "    }\n",
              "    40% {\n",
              "      border-color: transparent;\n",
              "      border-right-color: var(--fill-color);\n",
              "      border-top-color: var(--fill-color);\n",
              "    }\n",
              "    60% {\n",
              "      border-color: transparent;\n",
              "      border-right-color: var(--fill-color);\n",
              "    }\n",
              "    80% {\n",
              "      border-color: transparent;\n",
              "      border-right-color: var(--fill-color);\n",
              "      border-bottom-color: var(--fill-color);\n",
              "    }\n",
              "    90% {\n",
              "      border-color: transparent;\n",
              "      border-bottom-color: var(--fill-color);\n",
              "    }\n",
              "  }\n",
              "</style>\n",
              "\n",
              "  <script>\n",
              "    async function quickchart(key) {\n",
              "      const quickchartButtonEl =\n",
              "        document.querySelector('#' + key + ' button');\n",
              "      quickchartButtonEl.disabled = true;  // To prevent multiple clicks.\n",
              "      quickchartButtonEl.classList.add('colab-df-spinner');\n",
              "      try {\n",
              "        const charts = await google.colab.kernel.invokeFunction(\n",
              "            'suggestCharts', [key], {});\n",
              "      } catch (error) {\n",
              "        console.error('Error during call to suggestCharts:', error);\n",
              "      }\n",
              "      quickchartButtonEl.classList.remove('colab-df-spinner');\n",
              "      quickchartButtonEl.classList.add('colab-df-quickchart-complete');\n",
              "    }\n",
              "    (() => {\n",
              "      let quickchartButtonEl =\n",
              "        document.querySelector('#df-f62a51c4-f082-414c-bee8-b36c0b3d128f button');\n",
              "      quickchartButtonEl.style.display =\n",
              "        google.colab.kernel.accessAllowed ? 'block' : 'none';\n",
              "    })();\n",
              "  </script>\n",
              "</div>\n",
              "    </div>\n",
              "  </div>\n"
            ]
          },
          "metadata": {},
          "execution_count": 78
        }
      ]
    },
    {
      "cell_type": "markdown",
      "source": [
        "---\n"
      ],
      "metadata": {
        "id": "v9HQcpp0q4pU"
      }
    },
    {
      "cell_type": "markdown",
      "source": [
        "- **Passo 10: Salvar o DataFrame resultante como um arquivo CSV**\n",
        "\n",
        "  + Execute este bloco de código para concluir o processo de manipulação e pré-processamento de dados, salvando o DataFrame resultante em um arquivo CSV para que possa usá-lo posteriormente em análises."
      ],
      "metadata": {
        "id": "s_0aBR9iq3j0"
      }
    },
    {
      "cell_type": "code",
      "source": [
        "# Nome do arquivo CSV de saída\n",
        "nome_arquivo_csv = \"dados.csv\"\n",
        "\n",
        "# Caminho onde você deseja salvar o arquivo CSV\n",
        "caminho_saida_csv = \"/content/\"\n",
        "\n",
        "# Caminho completo do arquivo de saída\n",
        "caminho_completo_csv = os.path.join(caminho_saida_csv, nome_arquivo_csv)\n",
        "\n",
        "# Salvar o DataFrame \"dados\" como um arquivo CSV\n",
        "dados.to_csv(caminho_completo_csv, index=False)\n",
        "\n",
        "print(f'Arquivo CSV \"{nome_arquivo_csv}\" criado com sucesso em {caminho_completo_csv}.')"
      ],
      "metadata": {
        "id": "Lj11HxGogbGh",
        "colab": {
          "base_uri": "https://localhost:8080/"
        },
        "outputId": "f87d90b1-bd16-407c-bc0c-e502314b4842"
      },
      "execution_count": 79,
      "outputs": [
        {
          "output_type": "stream",
          "name": "stdout",
          "text": [
            "Arquivo CSV \"dados.csv\" criado com sucesso em /content/dados.csv.\n"
          ]
        }
      ]
    },
    {
      "cell_type": "markdown",
      "source": [
        "O arquivo CSV criado conterá os dados organizados das criptomoedas e estará localizado no diretório especificado. Baixe-o para a sua maquina local seguindo os proximos passos:"
      ],
      "metadata": {
        "id": "EPHgFS1jro1l"
      }
    },
    {
      "cell_type": "markdown",
      "source": [
        "+ Observe que um novo arquivo foi criado;\n",
        "+ Clique nos 3 pontos a direita do arquivo \"dados.csv\" e escolha a opção \"Fazer Download\"."
      ],
      "metadata": {
        "id": "UoStu5bu786d"
      }
    },
    {
      "cell_type": "markdown",
      "source": [
        "O arquivo está pronto para ser carregado nas próximas etapas do projeto."
      ],
      "metadata": {
        "id": "lQQC-v6S9KMH"
      }
    },
    {
      "cell_type": "markdown",
      "source": [
        "---"
      ],
      "metadata": {
        "id": "N7hQV17Xryi9"
      }
    },
    {
      "cell_type": "markdown",
      "source": [
        "## <font color = bluegreen> **Pontos Positivos de Realizar Tudo no Ambiente do Google Colab** </font>\n",
        "\n",
        "- **Facilidade de Gerenciamento:** Ao realizar todas as operações no ambiente do Google Colab, você evita a necessidade de gerenciar arquivos em sua máquina local. Isso simplifica o processo, especialmente ao lidar com vários arquivos.\n",
        "\n",
        "- **Automação:** Você pode criar um notebook no Google Colab com todas as etapas necessárias para baixar, processar e analisar seus dados. Isso permite que você automatize tarefas repetitivas e as execute de maneira consistente sempre que necessário.\n",
        "\n",
        "- **Recursos da Nuvem:** O Google Colab é executado em servidores na nuvem, o que significa que você pode aproveitar os recursos de computação poderosos sem depender da capacidade de processamento do seu próprio computador. Isso é especialmente útil ao lidar com grandes conjuntos de dados.\n",
        "\n",
        "- **Colaboração:** O Google Colab facilita a colaboração em projetos de ciência de dados, pois você pode compartilhar seu notebook com outras pessoas, permitindo que elas executem e modifiquem o código sem precisar baixar e enviar arquivos manualmente.\n",
        "\n",
        "- **Versionamento:** Você pode usar ferramentas de controle de versão, como o Git, diretamente no ambiente do Google Colab para rastrear e gerenciar alterações no seu código e nos dados.\n",
        "\n",
        "- **Ambiente Isolado:** O ambiente do Google Colab é isolado e pré-configurado, o que significa que você não precisa se preocupar com a instalação de pacotes, dependências ou configurações complexas. Isso economiza tempo e evita conflitos de versões.\n",
        "\n",
        "Em resumo, realizar todas as etapas no ambiente do Google Colab oferece maior conveniência, automação e flexibilidade, tornando o processo de análise de dados mais eficiente e colaborativo. Além disso, você pode aproveitar os recursos de computação da nuvem para lidar com tarefas de processamento intensivo."
      ],
      "metadata": {
        "id": "bZ2uHJLwbwNe"
      }
    },
    {
      "cell_type": "markdown",
      "source": [
        "## <font color = bluegreen> **Instruções para Jupyter Notebook ou Visual Studio Code** </font>\n",
        "\n",
        "\n",
        "Se você estiver utilizando o Jupyter Notebook ou o Visual Studio Code (VS Code) em vez do Google Colab, a maneira de mover o arquivo kaggle.json para a pasta correta pode ser um pouco diferente. Aqui estão as instruções adicionais para esses ambientes:\n",
        "\n",
        "- **Para Jupyter Notebook:**\n",
        "\n",
        "  + Certifique-se de que o arquivo kaggle.json está carregado no Jupyter Notebook.\n",
        "\n",
        "  + Você pode usar a biblioteca shutil para mover o arquivo. Execute o seguinte código na célula do Jupyter Notebook:\n",
        "\n"
      ],
      "metadata": {
        "id": "wlc2uvZlsGS4"
      }
    },
    {
      "cell_type": "code",
      "source": [
        "import shutil\n",
        "\n",
        "# Substitua o caminho abaixo pelo caminho correto onde o arquivo kaggle.json está carregado no Jupyter Notebook.\n",
        "source_path = '/caminho/completo/para/o/kaggle.json'\n",
        "\n",
        "# Substitua o caminho abaixo pelo diretório onde você deseja mover o arquivo.\n",
        "destination_path = '/caminho/para/o/diretorio/de/configuracao'\n",
        "\n",
        "shutil.move(source_path, destination_path)\n"
      ],
      "metadata": {
        "id": "pnMH6Sb7vag2"
      },
      "execution_count": null,
      "outputs": []
    },
    {
      "cell_type": "markdown",
      "source": [
        "*Certifique-se de que o arquivo kaggle.json foi movido com sucesso para a pasta de configuração.*"
      ],
      "metadata": {
        "id": "3RxwUJ4PvgLj"
      }
    },
    {
      "cell_type": "markdown",
      "source": [
        "- **Para o Visual Studio Code (VS Code):**\n",
        "\n",
        "   + Certifique-se de que o arquivo kaggle.json está carregado no VS Code.\n",
        "\n",
        "  + Você pode usar a biblioteca shutil da mesma maneira que no Jupyter Notebook para mover o arquivo. Execute o código relevante no ambiente de script Python no VS Code."
      ],
      "metadata": {
        "id": "7yqzv_kYvPeF"
      }
    },
    {
      "cell_type": "code",
      "source": [
        "import shutil\n",
        "\n",
        "# Substitua o caminho abaixo pelo caminho correto onde o arquivo kaggle.json está carregado no Jupyter Notebook.\n",
        "source_path = '/caminho/completo/para/o/kaggle.json'\n",
        "\n",
        "# Substitua o caminho abaixo pelo diretório onde você deseja mover o arquivo.\n",
        "destination_path = '/caminho/para/o/diretorio/de/configuracao'\n",
        "\n",
        "shutil.move(source_path, destination_path)"
      ],
      "metadata": {
        "id": "xK61UGpoADLo"
      },
      "execution_count": null,
      "outputs": []
    },
    {
      "cell_type": "markdown",
      "source": [
        "*Certifique-se de ajustar os caminhos source_path e destination_path para refletir as localizações corretas do arquivo kaggle.json e da pasta de configuração no seu ambiente específico. Depois de mover o arquivo, você pode prosseguir com os passos mencionados no manual anterior para o Google Colab ou realizar as tarefas que deseja no seu ambiente preferido (Jupyter Notebook ou VS Code).*"
      ],
      "metadata": {
        "id": "kDvV0VVAAGv5"
      }
    },
    {
      "cell_type": "markdown",
      "source": [
        "---"
      ],
      "metadata": {
        "id": "PcHlcHBOpnBj"
      }
    }
  ]
}